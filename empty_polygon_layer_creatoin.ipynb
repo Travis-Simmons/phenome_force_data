{
 "metadata": {
  "language_info": {
   "codemirror_mode": {
    "name": "ipython",
    "version": 3
   },
   "file_extension": ".py",
   "mimetype": "text/x-python",
   "name": "python",
   "nbconvert_exporter": "python",
   "pygments_lexer": "ipython3",
   "version": "3.8.5"
  },
  "orig_nbformat": 2,
  "kernelspec": {
   "name": "python385jvsc74a57bd066fd99cc653260adf426bf328db08d1b55b377c06d9b72100938088d40231a18",
   "display_name": "Python 3.8.5 64-bit ('general': conda)"
  }
 },
 "nbformat": 4,
 "nbformat_minor": 2,
 "cells": [
  {
   "cell_type": "code",
   "execution_count": 18,
   "metadata": {},
   "outputs": [],
   "source": [
    "import geopandas as gpd\n",
    "import os\n",
    "import glob\n",
    "import shutil"
   ]
  },
  {
   "cell_type": "code",
   "execution_count": 14,
   "metadata": {},
   "outputs": [
    {
     "output_type": "stream",
     "name": "stdout",
     "text": [
      "{'2020-08-21', '2020-09-01', '2020-08-11_night', '2020-07-28', '2020-09-04_night', '2020-08-07_night', '2020-07-31_night', '2020-09-09', '2020-08-11', '2020-08-04_night', '2020-09-04', '2020-08-07', '2020-09-11', '2020-09-01_night', '2020-08-14_night', '2020-08-21_night', '2020-08-25', '2020-07-31', '2020-09-11_night', '2020-08-28_night', '2020-08-18_night', '2020-08-14', '2020-08-28', '2020-08-18', '2020-08-04', '2020-09-15'}\n"
     ]
    }
   ],
   "source": [
    "data_folder = '/mnt/c/Users/Travis/Downloads/meeting_data/'\n",
    "\n",
    "\n",
    "folders = glob.glob(os.path.join(data_folder, '*'))\n",
    "\n",
    "clear_dates = []\n",
    "\n",
    "for i in folders:\n",
    "    data = glob.glob(os.path.join(i, '*.tif'))\n",
    "\n",
    "    for x in data:\n",
    "        clear_dates.append(os.path.basename(x).replace('.tif', ''))\n",
    "\n",
    "\n",
    "print(set(clear_dates))"
   ]
  },
  {
   "cell_type": "code",
   "execution_count": 20,
   "metadata": {},
   "outputs": [],
   "source": [
    "output_folder = '/mnt/c/Users/Travis/Desktop/phenome_force/'\n",
    "\n",
    "template_folder = '/mnt/c/Users/Travis/Desktop/template_folder/'\n",
    "template_files = glob.glob(os.path.join(template_folder, '*'))\n",
    "\n",
    "for x in clear_dates:\n",
    "    for i in template_files:\n",
    "        shutil.copyfile(i, os.path.join(output_folder, os.path.basename(i).replace('template', x)))\n",
    "# for i in set(clear_dates):\n",
    "#     poly_df = gpd.GeoDataFrame()\n",
    "#     poly_df.to_file(os.path.join('/mnt/c/Users/Travis/Desktop/phenome_force',i),driver='ESRI Shapefile')"
   ]
  },
  {
   "cell_type": "code",
   "execution_count": null,
   "metadata": {},
   "outputs": [],
   "source": []
  }
 ]
}